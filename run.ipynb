{
 "cells": [
  {
   "attachments": {},
   "cell_type": "markdown",
   "metadata": {},
   "source": [
    "### Crawl All Questions"
   ]
  },
  {
   "cell_type": "code",
   "execution_count": null,
   "metadata": {},
   "outputs": [],
   "source": [
    "from crawler import LeetCodeCrawler\n",
    "\n",
    "lc = LeetCodeCrawler()\n",
    "lc.crawl_all()"
   ]
  },
  {
   "attachments": {},
   "cell_type": "markdown",
   "metadata": {},
   "source": [
    "### Make Question Number ID - Question ID mapping"
   ]
  },
  {
   "cell_type": "code",
   "execution_count": null,
   "metadata": {},
   "outputs": [],
   "source": [
    "from crawler import OUTPUT_PATH\n",
    "import pandas as pd\n",
    "import json\n",
    "\n",
    "JSON_PATH = \"output/qid_map.json\"\n",
    "\n",
    "def make_qid_map():\n",
    "    df = pd.read_json(OUTPUT_PATH, orient='records')\n",
    "    df = df[['frontendQuestionId', 'titleSlug']]\n",
    "    json_dict = df.set_index('frontendQuestionId').T.to_dict(orient='index')\n",
    "    with open(JSON_PATH, 'w') as f:\n",
    "        json.dump(json_dict['titleSlug'], f)\n",
    "    return json_dict['titleSlug']\n",
    "\n",
    "\n",
    "qid_map = make_qid_map()"
   ]
  },
  {
   "attachments": {},
   "cell_type": "markdown",
   "metadata": {},
   "source": [
    "### Jump to a question by Question ID"
   ]
  },
  {
   "cell_type": "code",
   "execution_count": null,
   "metadata": {},
   "outputs": [],
   "source": [
    "import webbrowser\n",
    "\n",
    "def qid_to_url(id: int) -> str:\n",
    "    return \"https://leetcode.com/problems/{}/\".format(qid_map[id])\n",
    "\n",
    "webbrowser.open(qid_to_url(73))"
   ]
  }
 ],
 "metadata": {
  "kernelspec": {
   "display_name": "base",
   "language": "python",
   "name": "python3"
  },
  "language_info": {
   "codemirror_mode": {
    "name": "ipython",
    "version": 3
   },
   "file_extension": ".py",
   "mimetype": "text/x-python",
   "name": "python",
   "nbconvert_exporter": "python",
   "pygments_lexer": "ipython3",
   "version": "3.10.9"
  },
  "orig_nbformat": 4
 },
 "nbformat": 4,
 "nbformat_minor": 2
}
